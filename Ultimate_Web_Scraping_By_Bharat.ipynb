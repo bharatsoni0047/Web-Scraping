{
  "nbformat": 4,
  "nbformat_minor": 0,
  "metadata": {
    "colab": {
      "provenance": [],
      "collapsed_sections": [
        "V6_AJiEGHBFu",
        "FxIVADz1lJB8",
        "BUVPBGhbIVE5",
        "p40VsVZ9TVoT",
        "yaRCNK7I4Fse",
        "5RwXKUp5vjqu"
      ],
      "authorship_tag": "ABX9TyODbW7FXy3a6Ig308/c9Q5i",
      "include_colab_link": true
    },
    "kernelspec": {
      "name": "python3",
      "display_name": "Python 3"
    },
    "language_info": {
      "name": "python"
    }
  },
  "cells": [
    {
      "cell_type": "markdown",
      "metadata": {
        "id": "view-in-github",
        "colab_type": "text"
      },
      "source": [
        "<a href=\"https://colab.research.google.com/github/bharatsoni0047/Web-Scraping/blob/master/Ultimate_Web_Scraping_By_Bharat.ipynb\" target=\"_parent\"><img src=\"https://colab.research.google.com/assets/colab-badge.svg\" alt=\"Open In Colab\"/></a>"
      ]
    },
    {
      "cell_type": "markdown",
      "source": [
        "# Requests"
      ],
      "metadata": {
        "id": "V6_AJiEGHBFu"
      }
    },
    {
      "cell_type": "code",
      "execution_count": null,
      "metadata": {
        "id": "ZEJrNxxCG2kt"
      },
      "outputs": [],
      "source": [
        "import requests"
      ]
    },
    {
      "cell_type": "code",
      "source": [
        "print(requests.__version__)"
      ],
      "metadata": {
        "colab": {
          "base_uri": "https://localhost:8080/"
        },
        "id": "tx4JCpAAG9M3",
        "outputId": "0643dd3e-7201-4a4e-b0db-b2b1b3559c3f"
      },
      "execution_count": null,
      "outputs": [
        {
          "output_type": "stream",
          "name": "stdout",
          "text": [
            "2.32.3\n"
          ]
        }
      ]
    },
    {
      "cell_type": "code",
      "source": [
        "url = \"https://api.github.com\"\n",
        "response = requests.get(url)"
      ],
      "metadata": {
        "id": "vKfrRMrQG9JZ"
      },
      "execution_count": null,
      "outputs": []
    },
    {
      "cell_type": "code",
      "source": [
        "response.status_code"
      ],
      "metadata": {
        "colab": {
          "base_uri": "https://localhost:8080/"
        },
        "id": "e66mT204G9Eq",
        "outputId": "3cea6c81-98b5-4a1f-89f5-a18821a6bbad"
      },
      "execution_count": null,
      "outputs": [
        {
          "output_type": "execute_result",
          "data": {
            "text/plain": [
              "200"
            ]
          },
          "metadata": {},
          "execution_count": 9
        }
      ]
    },
    {
      "cell_type": "code",
      "source": [
        "response.content[:1000]"
      ],
      "metadata": {
        "colab": {
          "base_uri": "https://localhost:8080/"
        },
        "id": "FhMlHACvG9CQ",
        "outputId": "ea11ede5-568e-482f-8183-859f18aeb3db"
      },
      "execution_count": null,
      "outputs": [
        {
          "output_type": "execute_result",
          "data": {
            "text/plain": [
              "b'{\"current_user_url\":\"https://api.github.com/user\",\"current_user_authorizations_html_url\":\"https://github.com/settings/connections/applications{/client_id}\",\"authorizations_url\":\"https://api.github.com/authorizations\",\"code_search_url\":\"https://api.github.com/search/code?q={query}{&page,per_page,sort,order}\",\"commit_search_url\":\"https://api.github.com/search/commits?q={query}{&page,per_page,sort,order}\",\"emails_url\":\"https://api.github.com/user/emails\",\"emojis_url\":\"https://api.github.com/emojis\",\"events_url\":\"https://api.github.com/events\",\"feeds_url\":\"https://api.github.com/feeds\",\"followers_url\":\"https://api.github.com/user/followers\",\"following_url\":\"https://api.github.com/user/following{/target}\",\"gists_url\":\"https://api.github.com/gists{/gist_id}\",\"hub_url\":\"https://api.github.com/hub\",\"issue_search_url\":\"https://api.github.com/search/issues?q={query}{&page,per_page,sort,order}\",\"issues_url\":\"https://api.github.com/issues\",\"keys_url\":\"https://api.github.com/user/keys\",\"label_searc'"
            ]
          },
          "metadata": {},
          "execution_count": 11
        }
      ]
    },
    {
      "cell_type": "code",
      "source": [
        "url = \"https://api.github.com/search/repositories\""
      ],
      "metadata": {
        "id": "a75YWGj1G883"
      },
      "execution_count": null,
      "outputs": []
    },
    {
      "cell_type": "code",
      "source": [
        "params = {\"q\" : \"requests+language:python\"}"
      ],
      "metadata": {
        "id": "QJPRMhAjG8zE"
      },
      "execution_count": null,
      "outputs": []
    },
    {
      "cell_type": "code",
      "source": [
        "response = requests.get(url, params = params)"
      ],
      "metadata": {
        "id": "Uc78j8ilLoIt"
      },
      "execution_count": null,
      "outputs": []
    },
    {
      "cell_type": "code",
      "source": [
        "response.status_code"
      ],
      "metadata": {
        "colab": {
          "base_uri": "https://localhost:8080/"
        },
        "id": "-tctL7wjLoGK",
        "outputId": "8e34c7db-5e28-452f-8fd1-48b91f007640"
      },
      "execution_count": null,
      "outputs": [
        {
          "output_type": "execute_result",
          "data": {
            "text/plain": [
              "200"
            ]
          },
          "metadata": {},
          "execution_count": 17
        }
      ]
    },
    {
      "cell_type": "code",
      "source": [
        "response.content[:800]"
      ],
      "metadata": {
        "colab": {
          "base_uri": "https://localhost:8080/"
        },
        "id": "9cwqYpJrLoEW",
        "outputId": "63e3bc40-546c-46a0-e505-8cb6a6d5e241"
      },
      "execution_count": null,
      "outputs": [
        {
          "output_type": "execute_result",
          "data": {
            "text/plain": [
              "b'{\"total_count\":246,\"incomplete_results\":false,\"items\":[{\"id\":33210074,\"node_id\":\"MDEwOlJlcG9zaXRvcnkzMzIxMDA3NA==\",\"name\":\"secrules-language-evaluation\",\"full_name\":\"SpiderLabs/secrules-language-evaluation\",\"private\":false,\"owner\":{\"login\":\"SpiderLabs\",\"id\":508521,\"node_id\":\"MDEyOk9yZ2FuaXphdGlvbjUwODUyMQ==\",\"avatar_url\":\"https://avatars.githubusercontent.com/u/508521?v=4\",\"gravatar_id\":\"\",\"url\":\"https://api.github.com/users/SpiderLabs\",\"html_url\":\"https://github.com/SpiderLabs\",\"followers_url\":\"https://api.github.com/users/SpiderLabs/followers\",\"following_url\":\"https://api.github.com/users/SpiderLabs/following{/other_user}\",\"gists_url\":\"https://api.github.com/users/SpiderLabs/gists{/gist_id}\",\"starred_url\":\"https://api.github.com/users/SpiderLabs/starred{/owner}{/repo}\",\"subscriptions_url'"
            ]
          },
          "metadata": {},
          "execution_count": 19
        }
      ]
    },
    {
      "cell_type": "code",
      "source": [
        "# functioj for post\n",
        "\n",
        "def get_data_format(recieved_response):\n",
        "  json_format = recieved_response.json()\n",
        "  data = json_format[\"headers\"][\"Content-Type\"].split(\"/\")[-1]\n",
        "  return data"
      ],
      "metadata": {
        "id": "V_6SP1z7cgT-"
      },
      "execution_count": null,
      "outputs": []
    },
    {
      "cell_type": "code",
      "source": [
        "#post\n",
        "import requests\n",
        "\n",
        "url = 'https://httpbin.org/post'\n",
        "data = {\"username\":\"bharat\",\n",
        "        \"password\":\"bharat@123\"}\n",
        "response = requests.post(url , data = data)"
      ],
      "metadata": {
        "id": "X1yXlZFCLoCS"
      },
      "execution_count": null,
      "outputs": []
    },
    {
      "cell_type": "code",
      "source": [
        "response.status_code"
      ],
      "metadata": {
        "colab": {
          "base_uri": "https://localhost:8080/"
        },
        "id": "n1BR5lQZLoAe",
        "outputId": "6253fc83-e89c-4289-8553-a06174bc614c"
      },
      "execution_count": null,
      "outputs": [
        {
          "output_type": "execute_result",
          "data": {
            "text/plain": [
              "200"
            ]
          },
          "metadata": {},
          "execution_count": 21
        }
      ]
    },
    {
      "cell_type": "code",
      "source": [
        "response.json()"
      ],
      "metadata": {
        "colab": {
          "base_uri": "https://localhost:8080/"
        },
        "id": "8WAywAriLn-U",
        "outputId": "d1c964a1-f300-4ace-8d12-f86a87c7df9b"
      },
      "execution_count": null,
      "outputs": [
        {
          "output_type": "execute_result",
          "data": {
            "text/plain": [
              "{'args': {},\n",
              " 'data': '',\n",
              " 'files': {},\n",
              " 'form': {'password': 'bharat@123', 'username': 'bharat'},\n",
              " 'headers': {'Accept': '*/*',\n",
              "  'Accept-Encoding': 'gzip, deflate, zstd',\n",
              "  'Content-Length': '37',\n",
              "  'Content-Type': 'application/x-www-form-urlencoded',\n",
              "  'Host': 'httpbin.org',\n",
              "  'User-Agent': 'python-requests/2.32.3',\n",
              "  'X-Amzn-Trace-Id': 'Root=1-67ceb35f-6f4ceba3157cb1867a9a4f47'},\n",
              " 'json': None,\n",
              " 'origin': '104.154.189.8',\n",
              " 'url': 'https://httpbin.org/post'}"
            ]
          },
          "metadata": {},
          "execution_count": 22
        }
      ]
    },
    {
      "cell_type": "code",
      "source": [
        "response.json()[\"headers\"][\"Content-Type\"].split(\"/\")[-1]"
      ],
      "metadata": {
        "colab": {
          "base_uri": "https://localhost:8080/",
          "height": 35
        },
        "id": "KszFR5ImLn8Z",
        "outputId": "7e380bc3-b692-4739-d5d3-609d1543b98b"
      },
      "execution_count": null,
      "outputs": [
        {
          "output_type": "execute_result",
          "data": {
            "text/plain": [
              "'x-www-form-urlencoded'"
            ],
            "application/vnd.google.colaboratory.intrinsic+json": {
              "type": "string"
            }
          },
          "metadata": {},
          "execution_count": 29
        }
      ]
    },
    {
      "cell_type": "code",
      "source": [
        "get_data_format(response)"
      ],
      "metadata": {
        "colab": {
          "base_uri": "https://localhost:8080/",
          "height": 35
        },
        "id": "J1k9dqhRLn6a",
        "outputId": "2b37ad4f-de7f-4b93-e3e1-81c1e5656568"
      },
      "execution_count": null,
      "outputs": [
        {
          "output_type": "execute_result",
          "data": {
            "text/plain": [
              "'x-www-form-urlencoded'"
            ],
            "application/vnd.google.colaboratory.intrinsic+json": {
              "type": "string"
            }
          },
          "metadata": {},
          "execution_count": 33
        }
      ]
    },
    {
      "cell_type": "code",
      "source": [
        "import requests\n",
        "\n",
        "url = 'https://httpbin.org/post'\n",
        "data = {\"username\":\"tarun\",\n",
        "        \"password\":\"tarun@123\"}\n",
        "\n",
        "response1 = requests.post(url , json = data)"
      ],
      "metadata": {
        "id": "JNj0Y68hdW9a"
      },
      "execution_count": null,
      "outputs": []
    },
    {
      "cell_type": "code",
      "source": [
        "response1.status_code"
      ],
      "metadata": {
        "colab": {
          "base_uri": "https://localhost:8080/"
        },
        "id": "BUHJi0-Tef-G",
        "outputId": "f2e27427-c0c1-41e7-f7e1-e67e9a000703"
      },
      "execution_count": null,
      "outputs": [
        {
          "output_type": "execute_result",
          "data": {
            "text/plain": [
              "200"
            ]
          },
          "metadata": {},
          "execution_count": 38
        }
      ]
    },
    {
      "cell_type": "code",
      "source": [
        "response1.json()"
      ],
      "metadata": {
        "colab": {
          "base_uri": "https://localhost:8080/"
        },
        "id": "wR4sR8-OekOv",
        "outputId": "95c7ab71-b1a3-4cc6-e695-da7795ef0b51"
      },
      "execution_count": null,
      "outputs": [
        {
          "output_type": "execute_result",
          "data": {
            "text/plain": [
              "{'args': {},\n",
              " 'data': '{\"username\": \"tarun\", \"password\": \"tarun@123\"}',\n",
              " 'files': {},\n",
              " 'form': {},\n",
              " 'headers': {'Accept': '*/*',\n",
              "  'Accept-Encoding': 'gzip, deflate, zstd',\n",
              "  'Content-Length': '46',\n",
              "  'Content-Type': 'application/json',\n",
              "  'Host': 'httpbin.org',\n",
              "  'User-Agent': 'python-requests/2.32.3',\n",
              "  'X-Amzn-Trace-Id': 'Root=1-67ceb6db-1794a53c080545631b982841'},\n",
              " 'json': {'password': 'tarun@123', 'username': 'tarun'},\n",
              " 'origin': '104.154.189.8',\n",
              " 'url': 'https://httpbin.org/post'}"
            ]
          },
          "metadata": {},
          "execution_count": 39
        }
      ]
    },
    {
      "cell_type": "code",
      "source": [
        "get_data_format(response1)"
      ],
      "metadata": {
        "colab": {
          "base_uri": "https://localhost:8080/",
          "height": 35
        },
        "id": "Ol-A1Oayelyu",
        "outputId": "f496319f-6562-4061-b0ac-8ed238f00110"
      },
      "execution_count": null,
      "outputs": [
        {
          "output_type": "execute_result",
          "data": {
            "text/plain": [
              "'json'"
            ],
            "application/vnd.google.colaboratory.intrinsic+json": {
              "type": "string"
            }
          },
          "metadata": {},
          "execution_count": 40
        }
      ]
    },
    {
      "cell_type": "code",
      "source": [
        "#PUT to update the data\n",
        "#post\n",
        "import requests\n",
        "\n",
        "url = 'https://httpbin.org/put'\n",
        "data = {\"param1\":\"value1\"}\n",
        "\n",
        "response2 = requests.put(url , data = data)"
      ],
      "metadata": {
        "id": "g6mtONcxeqPS"
      },
      "execution_count": null,
      "outputs": []
    },
    {
      "cell_type": "code",
      "source": [
        "response2.status_code"
      ],
      "metadata": {
        "colab": {
          "base_uri": "https://localhost:8080/"
        },
        "id": "he-L6ll9fuWh",
        "outputId": "e62a0394-4491-4ffe-bc2b-9e989cdfcc82"
      },
      "execution_count": null,
      "outputs": [
        {
          "output_type": "execute_result",
          "data": {
            "text/plain": [
              "200"
            ]
          },
          "metadata": {},
          "execution_count": 45
        }
      ]
    },
    {
      "cell_type": "code",
      "source": [
        "response2.json()"
      ],
      "metadata": {
        "colab": {
          "base_uri": "https://localhost:8080/"
        },
        "id": "789r9m83f1X4",
        "outputId": "25ded753-cf44-4c3c-e247-10003ca18deb"
      },
      "execution_count": null,
      "outputs": [
        {
          "output_type": "execute_result",
          "data": {
            "text/plain": [
              "{'args': {},\n",
              " 'data': '',\n",
              " 'files': {},\n",
              " 'form': {'param1': 'value1'},\n",
              " 'headers': {'Accept': '*/*',\n",
              "  'Accept-Encoding': 'gzip, deflate, zstd',\n",
              "  'Content-Length': '13',\n",
              "  'Content-Type': 'application/x-www-form-urlencoded',\n",
              "  'Host': 'httpbin.org',\n",
              "  'User-Agent': 'python-requests/2.32.3',\n",
              "  'X-Amzn-Trace-Id': 'Root=1-67ceb889-590322d82fac8e62769a1201'},\n",
              " 'json': None,\n",
              " 'origin': '104.154.189.8',\n",
              " 'url': 'https://httpbin.org/put'}"
            ]
          },
          "metadata": {},
          "execution_count": 46
        }
      ]
    },
    {
      "cell_type": "code",
      "source": [
        "#Delete -- to delete data"
      ],
      "metadata": {
        "id": "qita9_dhf2pJ"
      },
      "execution_count": null,
      "outputs": []
    },
    {
      "cell_type": "code",
      "source": [
        "url = 'https://httpbin.org/delete'"
      ],
      "metadata": {
        "id": "Ds-IvvHHgRN7"
      },
      "execution_count": null,
      "outputs": []
    },
    {
      "cell_type": "code",
      "source": [
        "respinse2 = requests.delete(url)"
      ],
      "metadata": {
        "id": "04reQ4lof7y2"
      },
      "execution_count": null,
      "outputs": []
    },
    {
      "cell_type": "code",
      "source": [
        "respinse2.status_code"
      ],
      "metadata": {
        "colab": {
          "base_uri": "https://localhost:8080/"
        },
        "id": "b9V7YYh2gVdx",
        "outputId": "5f053fee-f2f4-46f9-f6e4-f71f19edba73"
      },
      "execution_count": null,
      "outputs": [
        {
          "output_type": "execute_result",
          "data": {
            "text/plain": [
              "200"
            ]
          },
          "metadata": {},
          "execution_count": 50
        }
      ]
    },
    {
      "cell_type": "code",
      "source": [
        "respinse2.json()"
      ],
      "metadata": {
        "colab": {
          "base_uri": "https://localhost:8080/"
        },
        "id": "zl45YYsPgYAr",
        "outputId": "13580d37-38a9-4c17-a8f3-1873b76c5087"
      },
      "execution_count": null,
      "outputs": [
        {
          "output_type": "execute_result",
          "data": {
            "text/plain": [
              "{'args': {},\n",
              " 'data': '',\n",
              " 'files': {},\n",
              " 'form': {},\n",
              " 'headers': {'Accept': '*/*',\n",
              "  'Accept-Encoding': 'gzip, deflate, zstd',\n",
              "  'Content-Length': '0',\n",
              "  'Host': 'httpbin.org',\n",
              "  'User-Agent': 'python-requests/2.32.3',\n",
              "  'X-Amzn-Trace-Id': 'Root=1-67ceb8b9-0b18d8a811c9f7530541e4d9'},\n",
              " 'json': None,\n",
              " 'origin': '104.154.189.8',\n",
              " 'url': 'https://httpbin.org/delete'}"
            ]
          },
          "metadata": {},
          "execution_count": 51
        }
      ]
    },
    {
      "cell_type": "code",
      "source": [
        "# HTTP Headers"
      ],
      "metadata": {
        "id": "3VkRsXn9o6Ev"
      },
      "execution_count": null,
      "outputs": []
    },
    {
      "cell_type": "code",
      "source": [
        "url = 'https://httpbin.org/headers'\n",
        "headers = {\n",
        "  'Content-Type': 'application/json',\n",
        "  'Host': 'httpbin.org',\n",
        "  'User-Agent': 'python-requests/2.32.3',\n",
        "  'Authorization': 'xyz',\n",
        "  'X-Custom-Header' : 'CustomValue'\n",
        "}\n",
        "\n",
        "response = requests.get(url, headers = headers)"
      ],
      "metadata": {
        "id": "bKuNUkHngZNX"
      },
      "execution_count": null,
      "outputs": []
    },
    {
      "cell_type": "code",
      "source": [
        "response.status_code"
      ],
      "metadata": {
        "colab": {
          "base_uri": "https://localhost:8080/"
        },
        "id": "_zmPlM3jpGfW",
        "outputId": "bad7e309-d642-4b62-f3f5-172215ccd489"
      },
      "execution_count": null,
      "outputs": [
        {
          "output_type": "execute_result",
          "data": {
            "text/plain": [
              "200"
            ]
          },
          "metadata": {},
          "execution_count": 106
        }
      ]
    },
    {
      "cell_type": "code",
      "source": [
        "response.text"
      ],
      "metadata": {
        "colab": {
          "base_uri": "https://localhost:8080/",
          "height": 70
        },
        "id": "SKoZWcZdqjUO",
        "outputId": "a4efe0d0-1593-48f4-c3c8-eeea805cb6cc"
      },
      "execution_count": null,
      "outputs": [
        {
          "output_type": "execute_result",
          "data": {
            "text/plain": [
              "'{\\n  \"headers\": {\\n    \"Accept\": \"*/*\", \\n    \"Accept-Encoding\": \"gzip, deflate, zstd\", \\n    \"Authorization\": \"xyz\", \\n    \"Content-Type\": \"application/json\", \\n    \"Host\": \"httpbin.org\", \\n    \"User-Agent\": \"python-requests/2.32.3\", \\n    \"X-Amzn-Trace-Id\": \"Root=1-67cec4e8-7659abe75837581940d0fce7\", \\n    \"X-Custom-Header\": \"CustomValue\"\\n  }\\n}\\n'"
            ],
            "application/vnd.google.colaboratory.intrinsic+json": {
              "type": "string"
            }
          },
          "metadata": {},
          "execution_count": 107
        }
      ]
    },
    {
      "cell_type": "code",
      "source": [
        "dict(response.headers)"
      ],
      "metadata": {
        "colab": {
          "base_uri": "https://localhost:8080/"
        },
        "id": "s-sw0s7VqxoW",
        "outputId": "69f9a251-e857-4266-bdb6-a89a8139e13b"
      },
      "execution_count": null,
      "outputs": [
        {
          "output_type": "execute_result",
          "data": {
            "text/plain": [
              "{'Date': 'Mon, 10 Mar 2025 10:54:33 GMT',\n",
              " 'Content-Type': 'application/json',\n",
              " 'Content-Length': '340',\n",
              " 'Connection': 'keep-alive',\n",
              " 'Server': 'gunicorn/19.9.0',\n",
              " 'Access-Control-Allow-Origin': '*',\n",
              " 'Access-Control-Allow-Credentials': 'true'}"
            ]
          },
          "metadata": {},
          "execution_count": 108
        }
      ]
    },
    {
      "cell_type": "code",
      "source": [
        "response.headers.get('Content-Type')"
      ],
      "metadata": {
        "colab": {
          "base_uri": "https://localhost:8080/",
          "height": 35
        },
        "id": "BNWOHykJpRAO",
        "outputId": "be37a2d5-71b6-4c95-954f-6ed2456b1f54"
      },
      "execution_count": null,
      "outputs": [
        {
          "output_type": "execute_result",
          "data": {
            "text/plain": [
              "'application/json'"
            ],
            "application/vnd.google.colaboratory.intrinsic+json": {
              "type": "string"
            }
          },
          "metadata": {},
          "execution_count": 109
        }
      ]
    },
    {
      "cell_type": "code",
      "source": [
        " a = response.json().get('headers')\n",
        " a"
      ],
      "metadata": {
        "colab": {
          "base_uri": "https://localhost:8080/"
        },
        "id": "N8tNx0xtpJ0W",
        "outputId": "a889c272-ce05-4068-d2a8-60e7501e144b"
      },
      "execution_count": null,
      "outputs": [
        {
          "output_type": "execute_result",
          "data": {
            "text/plain": [
              "{'Accept': '*/*',\n",
              " 'Accept-Encoding': 'gzip, deflate, zstd',\n",
              " 'Authorization': 'xyz',\n",
              " 'Content-Type': 'application/json',\n",
              " 'Host': 'httpbin.org',\n",
              " 'User-Agent': 'python-requests/2.32.3',\n",
              " 'X-Amzn-Trace-Id': 'Root=1-67cec4e8-7659abe75837581940d0fce7',\n",
              " 'X-Custom-Header': 'CustomValue'}"
            ]
          },
          "metadata": {},
          "execution_count": 113
        }
      ]
    },
    {
      "cell_type": "code",
      "source": [
        "for i,j in a.items():\n",
        "  print(f\"{i:17}: {j}\")"
      ],
      "metadata": {
        "colab": {
          "base_uri": "https://localhost:8080/"
        },
        "id": "ogjukUa8pLK1",
        "outputId": "6b599f36-a057-4f68-e589-7213a9d430fa"
      },
      "execution_count": null,
      "outputs": [
        {
          "output_type": "stream",
          "name": "stdout",
          "text": [
            "Accept           : */*\n",
            "Accept-Encoding  : gzip, deflate, zstd\n",
            "Authorization    : xyz\n",
            "Content-Type     : application/json\n",
            "Host             : httpbin.org\n",
            "User-Agent       : python-requests/2.32.3\n",
            "X-Amzn-Trace-Id  : Root=1-67cec4e8-7659abe75837581940d0fce7\n",
            "X-Custom-Header  : CustomValue\n"
          ]
        }
      ]
    },
    {
      "cell_type": "code",
      "source": [
        "# Response Methods\n",
        "url = \"https://api.github.com\"\n",
        "response = requests.get(url)\n",
        "response.text"
      ],
      "metadata": {
        "colab": {
          "base_uri": "https://localhost:8080/",
          "height": 140
        },
        "id": "Ywgb1FSAyW0a",
        "outputId": "522da366-c1aa-4777-bd7a-5956772ccba3"
      },
      "execution_count": null,
      "outputs": [
        {
          "output_type": "execute_result",
          "data": {
            "text/plain": [
              "'{\"current_user_url\":\"https://api.github.com/user\",\"current_user_authorizations_html_url\":\"https://github.com/settings/connections/applications{/client_id}\",\"authorizations_url\":\"https://api.github.com/authorizations\",\"code_search_url\":\"https://api.github.com/search/code?q={query}{&page,per_page,sort,order}\",\"commit_search_url\":\"https://api.github.com/search/commits?q={query}{&page,per_page,sort,order}\",\"emails_url\":\"https://api.github.com/user/emails\",\"emojis_url\":\"https://api.github.com/emojis\",\"events_url\":\"https://api.github.com/events\",\"feeds_url\":\"https://api.github.com/feeds\",\"followers_url\":\"https://api.github.com/user/followers\",\"following_url\":\"https://api.github.com/user/following{/target}\",\"gists_url\":\"https://api.github.com/gists{/gist_id}\",\"hub_url\":\"https://api.github.com/hub\",\"issue_search_url\":\"https://api.github.com/search/issues?q={query}{&page,per_page,sort,order}\",\"issues_url\":\"https://api.github.com/issues\",\"keys_url\":\"https://api.github.com/user/keys\",\"label_search_url\":\"https://api.github.com/search/labels?q={query}&repository_id={repository_id}{&page,per_page}\",\"notifications_url\":\"https://api.github.com/notifications\",\"organization_url\":\"https://api.github.com/orgs/{org}\",\"organization_repositories_url\":\"https://api.github.com/orgs/{org}/repos{?type,page,per_page,sort}\",\"organization_teams_url\":\"https://api.github.com/orgs/{org}/teams\",\"public_gists_url\":\"https://api.github.com/gists/public\",\"rate_limit_url\":\"https://api.github.com/rate_limit\",\"repository_url\":\"https://api.github.com/repos/{owner}/{repo}\",\"repository_search_url\":\"https://api.github.com/search/repositories?q={query}{&page,per_page,sort,order}\",\"current_user_repositories_url\":\"https://api.github.com/user/repos{?type,page,per_page,sort}\",\"starred_url\":\"https://api.github.com/user/starred{/owner}{/repo}\",\"starred_gists_url\":\"https://api.github.com/gists/starred\",\"topic_search_url\":\"https://api.github.com/search/topics?q={query}{&page,per_page}\",\"user_url\":\"https://api.github.com/users/{user}\",\"user_organizations_url\":\"https://api.github.com/user/orgs\",\"user_repositories_url\":\"https://api.github.com/users/{user}/repos{?type,page,per_page,sort}\",\"user_search_url\":\"https://api.github.com/search/users?q={query}{&page,per_page,sort,order}\"}'"
            ],
            "application/vnd.google.colaboratory.intrinsic+json": {
              "type": "string"
            }
          },
          "metadata": {},
          "execution_count": 127
        }
      ]
    },
    {
      "cell_type": "code",
      "source": [
        "type(response.text)"
      ],
      "metadata": {
        "colab": {
          "base_uri": "https://localhost:8080/"
        },
        "id": "J3dU9uInyWym",
        "outputId": "1d736319-269a-4c29-c711-919c3314a4ba"
      },
      "execution_count": null,
      "outputs": [
        {
          "output_type": "execute_result",
          "data": {
            "text/plain": [
              "str"
            ]
          },
          "metadata": {},
          "execution_count": 128
        }
      ]
    },
    {
      "cell_type": "code",
      "source": [
        "response.text.lower().split(':')"
      ],
      "metadata": {
        "colab": {
          "base_uri": "https://localhost:8080/"
        },
        "id": "g3NALWPtyWwV",
        "outputId": "6ae3e9f2-80dc-4a1d-8e39-6ba7d6536245"
      },
      "execution_count": null,
      "outputs": [
        {
          "output_type": "execute_result",
          "data": {
            "text/plain": [
              "['{\"current_user_url\"',\n",
              " '\"https',\n",
              " '//api.github.com/user\",\"current_user_authorizations_html_url\"',\n",
              " '\"https',\n",
              " '//github.com/settings/connections/applications{/client_id}\",\"authorizations_url\"',\n",
              " '\"https',\n",
              " '//api.github.com/authorizations\",\"code_search_url\"',\n",
              " '\"https',\n",
              " '//api.github.com/search/code?q={query}{&page,per_page,sort,order}\",\"commit_search_url\"',\n",
              " '\"https',\n",
              " '//api.github.com/search/commits?q={query}{&page,per_page,sort,order}\",\"emails_url\"',\n",
              " '\"https',\n",
              " '//api.github.com/user/emails\",\"emojis_url\"',\n",
              " '\"https',\n",
              " '//api.github.com/emojis\",\"events_url\"',\n",
              " '\"https',\n",
              " '//api.github.com/events\",\"feeds_url\"',\n",
              " '\"https',\n",
              " '//api.github.com/feeds\",\"followers_url\"',\n",
              " '\"https',\n",
              " '//api.github.com/user/followers\",\"following_url\"',\n",
              " '\"https',\n",
              " '//api.github.com/user/following{/target}\",\"gists_url\"',\n",
              " '\"https',\n",
              " '//api.github.com/gists{/gist_id}\",\"hub_url\"',\n",
              " '\"https',\n",
              " '//api.github.com/hub\",\"issue_search_url\"',\n",
              " '\"https',\n",
              " '//api.github.com/search/issues?q={query}{&page,per_page,sort,order}\",\"issues_url\"',\n",
              " '\"https',\n",
              " '//api.github.com/issues\",\"keys_url\"',\n",
              " '\"https',\n",
              " '//api.github.com/user/keys\",\"label_search_url\"',\n",
              " '\"https',\n",
              " '//api.github.com/search/labels?q={query}&repository_id={repository_id}{&page,per_page}\",\"notifications_url\"',\n",
              " '\"https',\n",
              " '//api.github.com/notifications\",\"organization_url\"',\n",
              " '\"https',\n",
              " '//api.github.com/orgs/{org}\",\"organization_repositories_url\"',\n",
              " '\"https',\n",
              " '//api.github.com/orgs/{org}/repos{?type,page,per_page,sort}\",\"organization_teams_url\"',\n",
              " '\"https',\n",
              " '//api.github.com/orgs/{org}/teams\",\"public_gists_url\"',\n",
              " '\"https',\n",
              " '//api.github.com/gists/public\",\"rate_limit_url\"',\n",
              " '\"https',\n",
              " '//api.github.com/rate_limit\",\"repository_url\"',\n",
              " '\"https',\n",
              " '//api.github.com/repos/{owner}/{repo}\",\"repository_search_url\"',\n",
              " '\"https',\n",
              " '//api.github.com/search/repositories?q={query}{&page,per_page,sort,order}\",\"current_user_repositories_url\"',\n",
              " '\"https',\n",
              " '//api.github.com/user/repos{?type,page,per_page,sort}\",\"starred_url\"',\n",
              " '\"https',\n",
              " '//api.github.com/user/starred{/owner}{/repo}\",\"starred_gists_url\"',\n",
              " '\"https',\n",
              " '//api.github.com/gists/starred\",\"topic_search_url\"',\n",
              " '\"https',\n",
              " '//api.github.com/search/topics?q={query}{&page,per_page}\",\"user_url\"',\n",
              " '\"https',\n",
              " '//api.github.com/users/{user}\",\"user_organizations_url\"',\n",
              " '\"https',\n",
              " '//api.github.com/user/orgs\",\"user_repositories_url\"',\n",
              " '\"https',\n",
              " '//api.github.com/users/{user}/repos{?type,page,per_page,sort}\",\"user_search_url\"',\n",
              " '\"https',\n",
              " '//api.github.com/search/users?q={query}{&page,per_page,sort,order}\"}']"
            ]
          },
          "metadata": {},
          "execution_count": 133
        }
      ]
    },
    {
      "cell_type": "code",
      "source": [
        "response.content"
      ],
      "metadata": {
        "colab": {
          "base_uri": "https://localhost:8080/"
        },
        "id": "wAT35wd-yWuJ",
        "outputId": "b59b85df-cdda-4049-b16f-9bdd39cba9fe"
      },
      "execution_count": null,
      "outputs": [
        {
          "output_type": "execute_result",
          "data": {
            "text/plain": [
              "b'{\"current_user_url\":\"https://api.github.com/user\",\"current_user_authorizations_html_url\":\"https://github.com/settings/connections/applications{/client_id}\",\"authorizations_url\":\"https://api.github.com/authorizations\",\"code_search_url\":\"https://api.github.com/search/code?q={query}{&page,per_page,sort,order}\",\"commit_search_url\":\"https://api.github.com/search/commits?q={query}{&page,per_page,sort,order}\",\"emails_url\":\"https://api.github.com/user/emails\",\"emojis_url\":\"https://api.github.com/emojis\",\"events_url\":\"https://api.github.com/events\",\"feeds_url\":\"https://api.github.com/feeds\",\"followers_url\":\"https://api.github.com/user/followers\",\"following_url\":\"https://api.github.com/user/following{/target}\",\"gists_url\":\"https://api.github.com/gists{/gist_id}\",\"hub_url\":\"https://api.github.com/hub\",\"issue_search_url\":\"https://api.github.com/search/issues?q={query}{&page,per_page,sort,order}\",\"issues_url\":\"https://api.github.com/issues\",\"keys_url\":\"https://api.github.com/user/keys\",\"label_search_url\":\"https://api.github.com/search/labels?q={query}&repository_id={repository_id}{&page,per_page}\",\"notifications_url\":\"https://api.github.com/notifications\",\"organization_url\":\"https://api.github.com/orgs/{org}\",\"organization_repositories_url\":\"https://api.github.com/orgs/{org}/repos{?type,page,per_page,sort}\",\"organization_teams_url\":\"https://api.github.com/orgs/{org}/teams\",\"public_gists_url\":\"https://api.github.com/gists/public\",\"rate_limit_url\":\"https://api.github.com/rate_limit\",\"repository_url\":\"https://api.github.com/repos/{owner}/{repo}\",\"repository_search_url\":\"https://api.github.com/search/repositories?q={query}{&page,per_page,sort,order}\",\"current_user_repositories_url\":\"https://api.github.com/user/repos{?type,page,per_page,sort}\",\"starred_url\":\"https://api.github.com/user/starred{/owner}{/repo}\",\"starred_gists_url\":\"https://api.github.com/gists/starred\",\"topic_search_url\":\"https://api.github.com/search/topics?q={query}{&page,per_page}\",\"user_url\":\"https://api.github.com/users/{user}\",\"user_organizations_url\":\"https://api.github.com/user/orgs\",\"user_repositories_url\":\"https://api.github.com/users/{user}/repos{?type,page,per_page,sort}\",\"user_search_url\":\"https://api.github.com/search/users?q={query}{&page,per_page,sort,order}\"}'"
            ]
          },
          "metadata": {},
          "execution_count": 131
        }
      ]
    },
    {
      "cell_type": "code",
      "source": [
        "type(response.content)"
      ],
      "metadata": {
        "colab": {
          "base_uri": "https://localhost:8080/"
        },
        "id": "LRbL_D1uyWsD",
        "outputId": "4d7119f4-7ea3-4f65-efc0-4a6e310ed85b"
      },
      "execution_count": null,
      "outputs": [
        {
          "output_type": "execute_result",
          "data": {
            "text/plain": [
              "bytes"
            ]
          },
          "metadata": {},
          "execution_count": 132
        }
      ]
    },
    {
      "cell_type": "code",
      "source": [
        "response.status_code"
      ],
      "metadata": {
        "colab": {
          "base_uri": "https://localhost:8080/"
        },
        "id": "y1LQexsPyWp8",
        "outputId": "e36f42fc-7066-41a9-b639-91fc103595b3"
      },
      "execution_count": null,
      "outputs": [
        {
          "output_type": "execute_result",
          "data": {
            "text/plain": [
              "200"
            ]
          },
          "metadata": {},
          "execution_count": 134
        }
      ]
    },
    {
      "cell_type": "code",
      "source": [
        "response.headers"
      ],
      "metadata": {
        "colab": {
          "base_uri": "https://localhost:8080/"
        },
        "id": "QKFwhBa9y1Fq",
        "outputId": "0b91a2ee-6a03-4abe-b206-1e73f62b8f30"
      },
      "execution_count": null,
      "outputs": [
        {
          "output_type": "execute_result",
          "data": {
            "text/plain": [
              "{'Date': 'Mon, 10 Mar 2025 11:21:47 GMT', 'Cache-Control': 'public, max-age=60, s-maxage=60', 'Vary': 'Accept,Accept-Encoding, Accept, X-Requested-With', 'ETag': '\"4f825cc84e1c733059d46e76e6df9db557ae5254f9625dfe8e1b09499c449438\"', 'x-github-api-version-selected': '2022-11-28', 'Access-Control-Expose-Headers': 'ETag, Link, Location, Retry-After, X-GitHub-OTP, X-RateLimit-Limit, X-RateLimit-Remaining, X-RateLimit-Used, X-RateLimit-Resource, X-RateLimit-Reset, X-OAuth-Scopes, X-Accepted-OAuth-Scopes, X-Poll-Interval, X-GitHub-Media-Type, X-GitHub-SSO, X-GitHub-Request-Id, Deprecation, Sunset', 'Access-Control-Allow-Origin': '*', 'Strict-Transport-Security': 'max-age=31536000; includeSubdomains; preload', 'X-Frame-Options': 'deny', 'X-Content-Type-Options': 'nosniff', 'X-XSS-Protection': '0', 'Referrer-Policy': 'origin-when-cross-origin, strict-origin-when-cross-origin', 'Content-Security-Policy': \"default-src 'none'\", 'Server': 'github.com', 'Content-Type': 'application/json; charset=utf-8', 'X-GitHub-Media-Type': 'github.v3; format=json', 'Content-Encoding': 'gzip', 'Accept-Ranges': 'bytes', 'X-RateLimit-Limit': '60', 'X-RateLimit-Remaining': '59', 'X-RateLimit-Reset': '1741609311', 'X-RateLimit-Resource': 'core', 'X-RateLimit-Used': '1', 'Content-Length': '510', 'X-GitHub-Request-Id': 'AA28:1878:281963E:50BD47B:67CECB4F'}"
            ]
          },
          "metadata": {},
          "execution_count": 135
        }
      ]
    },
    {
      "cell_type": "code",
      "source": [
        "dict(response.headers)"
      ],
      "metadata": {
        "colab": {
          "base_uri": "https://localhost:8080/"
        },
        "id": "tVkMFuJpy3ug",
        "outputId": "b1ef3917-bb8f-4dcb-877c-94bf6dcbacf4"
      },
      "execution_count": null,
      "outputs": [
        {
          "output_type": "execute_result",
          "data": {
            "text/plain": [
              "{'Date': 'Mon, 10 Mar 2025 11:21:47 GMT',\n",
              " 'Cache-Control': 'public, max-age=60, s-maxage=60',\n",
              " 'Vary': 'Accept,Accept-Encoding, Accept, X-Requested-With',\n",
              " 'ETag': '\"4f825cc84e1c733059d46e76e6df9db557ae5254f9625dfe8e1b09499c449438\"',\n",
              " 'x-github-api-version-selected': '2022-11-28',\n",
              " 'Access-Control-Expose-Headers': 'ETag, Link, Location, Retry-After, X-GitHub-OTP, X-RateLimit-Limit, X-RateLimit-Remaining, X-RateLimit-Used, X-RateLimit-Resource, X-RateLimit-Reset, X-OAuth-Scopes, X-Accepted-OAuth-Scopes, X-Poll-Interval, X-GitHub-Media-Type, X-GitHub-SSO, X-GitHub-Request-Id, Deprecation, Sunset',\n",
              " 'Access-Control-Allow-Origin': '*',\n",
              " 'Strict-Transport-Security': 'max-age=31536000; includeSubdomains; preload',\n",
              " 'X-Frame-Options': 'deny',\n",
              " 'X-Content-Type-Options': 'nosniff',\n",
              " 'X-XSS-Protection': '0',\n",
              " 'Referrer-Policy': 'origin-when-cross-origin, strict-origin-when-cross-origin',\n",
              " 'Content-Security-Policy': \"default-src 'none'\",\n",
              " 'Server': 'github.com',\n",
              " 'Content-Type': 'application/json; charset=utf-8',\n",
              " 'X-GitHub-Media-Type': 'github.v3; format=json',\n",
              " 'Content-Encoding': 'gzip',\n",
              " 'Accept-Ranges': 'bytes',\n",
              " 'X-RateLimit-Limit': '60',\n",
              " 'X-RateLimit-Remaining': '59',\n",
              " 'X-RateLimit-Reset': '1741609311',\n",
              " 'X-RateLimit-Resource': 'core',\n",
              " 'X-RateLimit-Used': '1',\n",
              " 'Content-Length': '510',\n",
              " 'X-GitHub-Request-Id': 'AA28:1878:281963E:50BD47B:67CECB4F'}"
            ]
          },
          "metadata": {},
          "execution_count": 136
        }
      ]
    },
    {
      "cell_type": "code",
      "source": [
        "response.json()"
      ],
      "metadata": {
        "colab": {
          "base_uri": "https://localhost:8080/"
        },
        "id": "jWVQAga8y6FI",
        "outputId": "5cf1cb68-1f00-4d9c-86e9-b572e7753675"
      },
      "execution_count": null,
      "outputs": [
        {
          "output_type": "execute_result",
          "data": {
            "text/plain": [
              "{'current_user_url': 'https://api.github.com/user',\n",
              " 'current_user_authorizations_html_url': 'https://github.com/settings/connections/applications{/client_id}',\n",
              " 'authorizations_url': 'https://api.github.com/authorizations',\n",
              " 'code_search_url': 'https://api.github.com/search/code?q={query}{&page,per_page,sort,order}',\n",
              " 'commit_search_url': 'https://api.github.com/search/commits?q={query}{&page,per_page,sort,order}',\n",
              " 'emails_url': 'https://api.github.com/user/emails',\n",
              " 'emojis_url': 'https://api.github.com/emojis',\n",
              " 'events_url': 'https://api.github.com/events',\n",
              " 'feeds_url': 'https://api.github.com/feeds',\n",
              " 'followers_url': 'https://api.github.com/user/followers',\n",
              " 'following_url': 'https://api.github.com/user/following{/target}',\n",
              " 'gists_url': 'https://api.github.com/gists{/gist_id}',\n",
              " 'hub_url': 'https://api.github.com/hub',\n",
              " 'issue_search_url': 'https://api.github.com/search/issues?q={query}{&page,per_page,sort,order}',\n",
              " 'issues_url': 'https://api.github.com/issues',\n",
              " 'keys_url': 'https://api.github.com/user/keys',\n",
              " 'label_search_url': 'https://api.github.com/search/labels?q={query}&repository_id={repository_id}{&page,per_page}',\n",
              " 'notifications_url': 'https://api.github.com/notifications',\n",
              " 'organization_url': 'https://api.github.com/orgs/{org}',\n",
              " 'organization_repositories_url': 'https://api.github.com/orgs/{org}/repos{?type,page,per_page,sort}',\n",
              " 'organization_teams_url': 'https://api.github.com/orgs/{org}/teams',\n",
              " 'public_gists_url': 'https://api.github.com/gists/public',\n",
              " 'rate_limit_url': 'https://api.github.com/rate_limit',\n",
              " 'repository_url': 'https://api.github.com/repos/{owner}/{repo}',\n",
              " 'repository_search_url': 'https://api.github.com/search/repositories?q={query}{&page,per_page,sort,order}',\n",
              " 'current_user_repositories_url': 'https://api.github.com/user/repos{?type,page,per_page,sort}',\n",
              " 'starred_url': 'https://api.github.com/user/starred{/owner}{/repo}',\n",
              " 'starred_gists_url': 'https://api.github.com/gists/starred',\n",
              " 'topic_search_url': 'https://api.github.com/search/topics?q={query}{&page,per_page}',\n",
              " 'user_url': 'https://api.github.com/users/{user}',\n",
              " 'user_organizations_url': 'https://api.github.com/user/orgs',\n",
              " 'user_repositories_url': 'https://api.github.com/users/{user}/repos{?type,page,per_page,sort}',\n",
              " 'user_search_url': 'https://api.github.com/search/users?q={query}{&page,per_page,sort,order}'}"
            ]
          },
          "metadata": {},
          "execution_count": 137
        }
      ]
    },
    {
      "cell_type": "code",
      "source": [],
      "metadata": {
        "id": "v_NFhZPMy7is"
      },
      "execution_count": null,
      "outputs": []
    },
    {
      "cell_type": "code",
      "source": [
        "#Working with Public API\n",
        "url = 'http://jsonplaceholder.typicode.com/posts'"
      ],
      "metadata": {
        "id": "q3QyBlbezMXY"
      },
      "execution_count": null,
      "outputs": []
    },
    {
      "cell_type": "code",
      "source": [
        "# for GET\n",
        "\n",
        "import requests\n",
        "try:\n",
        "  response = requests.get(url)\n",
        "  response.raise_for_status()\n",
        "except Exception as e:\n",
        "  print(e)\n",
        "else:\n",
        "  status = response.status_code\n",
        "  print(status)\n",
        "\n",
        "\n",
        "  if status == 200:\n",
        "    print(\"\\nsuccesfull req\")\n",
        "\n",
        "    post = response.json()\n",
        "\n",
        "    for i in range(5):\n",
        "      print(f\"\\n post: {i+1}\")\n",
        "      print(post[i])"
      ],
      "metadata": {
        "colab": {
          "base_uri": "https://localhost:8080/"
        },
        "id": "fed1_S2DzMUN",
        "outputId": "c51634d1-cd18-4ba3-ce3b-f010c31f395c"
      },
      "execution_count": null,
      "outputs": [
        {
          "output_type": "stream",
          "name": "stdout",
          "text": [
            "200\n",
            "\n",
            "succesfull req\n",
            "\n",
            " post: 1\n",
            "{'userId': 1, 'id': 1, 'title': 'sunt aut facere repellat provident occaecati excepturi optio reprehenderit', 'body': 'quia et suscipit\\nsuscipit recusandae consequuntur expedita et cum\\nreprehenderit molestiae ut ut quas totam\\nnostrum rerum est autem sunt rem eveniet architecto'}\n",
            "\n",
            " post: 2\n",
            "{'userId': 1, 'id': 2, 'title': 'qui est esse', 'body': 'est rerum tempore vitae\\nsequi sint nihil reprehenderit dolor beatae ea dolores neque\\nfugiat blanditiis voluptate porro vel nihil molestiae ut reiciendis\\nqui aperiam non debitis possimus qui neque nisi nulla'}\n",
            "\n",
            " post: 3\n",
            "{'userId': 1, 'id': 3, 'title': 'ea molestias quasi exercitationem repellat qui ipsa sit aut', 'body': 'et iusto sed quo iure\\nvoluptatem occaecati omnis eligendi aut ad\\nvoluptatem doloribus vel accusantium quis pariatur\\nmolestiae porro eius odio et labore et velit aut'}\n",
            "\n",
            " post: 4\n",
            "{'userId': 1, 'id': 4, 'title': 'eum et est occaecati', 'body': 'ullam et saepe reiciendis voluptatem adipisci\\nsit amet autem assumenda provident rerum culpa\\nquis hic commodi nesciunt rem tenetur doloremque ipsam iure\\nquis sunt voluptatem rerum illo velit'}\n",
            "\n",
            " post: 5\n",
            "{'userId': 1, 'id': 5, 'title': 'nesciunt quas odio', 'body': 'repudiandae veniam quaerat sunt sed\\nalias aut fugiat sit autem sed est\\nvoluptatem omnis possimus esse voluptatibus quis\\nest aut tenetur dolor neque'}\n"
          ]
        }
      ]
    },
    {
      "cell_type": "code",
      "source": [],
      "metadata": {
        "id": "BUKd8vL2zMPq"
      },
      "execution_count": null,
      "outputs": []
    },
    {
      "cell_type": "code",
      "source": [
        "# for Post\n",
        "dummy = {\n",
        "     'userId': 11, 'id': 10, 'title': 'bharat', 'body': 'good'\n",
        "}"
      ],
      "metadata": {
        "id": "p3n1Xp8LzMLa"
      },
      "execution_count": null,
      "outputs": []
    },
    {
      "cell_type": "code",
      "source": [
        "try:\n",
        "  response = requests.post(url, data = dummy)\n",
        "  response.raise_for_status()\n",
        "except Exception as e:\n",
        "  print(e)\n",
        "else:\n",
        "  status = response.status_code\n",
        "  if status == 201:\n",
        "    print(f\"\\n succesfull req for post\")\n",
        "\n",
        "    post = response.json()\n",
        "    print(f\"post: {post}\")\n",
        "  else:\n",
        "    print(status)"
      ],
      "metadata": {
        "colab": {
          "base_uri": "https://localhost:8080/"
        },
        "id": "RksgKllz1Ubl",
        "outputId": "7f873849-faa4-4004-a2a5-ca598b500448"
      },
      "execution_count": null,
      "outputs": [
        {
          "output_type": "stream",
          "name": "stdout",
          "text": [
            "\n",
            " succesfull req for post\n",
            "post: {'userId': '11', 'id': 101, 'title': 'bharat', 'body': 'good'}\n"
          ]
        }
      ]
    },
    {
      "cell_type": "code",
      "source": [],
      "metadata": {
        "id": "aVDtNXue2K0v"
      },
      "execution_count": null,
      "outputs": []
    },
    {
      "cell_type": "markdown",
      "source": [
        "#BeautifulSoup"
      ],
      "metadata": {
        "id": "FxIVADz1lJB8"
      }
    },
    {
      "cell_type": "code",
      "source": [
        "from bs4 import BeautifulSoup"
      ],
      "metadata": {
        "id": "hpWppgexlQZ1"
      },
      "execution_count": null,
      "outputs": []
    },
    {
      "cell_type": "code",
      "source": [
        "with open('a') as file:\n",
        "  soup = BeautifulSoup(file, \"html.parser\")"
      ],
      "metadata": {
        "id": "GltoIXayIM8Z"
      },
      "execution_count": null,
      "outputs": []
    },
    {
      "cell_type": "code",
      "source": [
        "soup.pretioffy() # for hierarchy"
      ],
      "metadata": {
        "id": "B-2QZIVVlcVV"
      },
      "execution_count": null,
      "outputs": []
    },
    {
      "cell_type": "code",
      "source": [
        "type(soup.prettify())"
      ],
      "metadata": {
        "id": "6U_D-xpVlcR0"
      },
      "execution_count": null,
      "outputs": []
    },
    {
      "cell_type": "code",
      "source": [
        "soup.title  # for tittle"
      ],
      "metadata": {
        "id": "hs9Fdv8wlcPF"
      },
      "execution_count": null,
      "outputs": []
    },
    {
      "cell_type": "code",
      "source": [
        "soup.a #for anker link"
      ],
      "metadata": {
        "id": "SwnXr-dglcNA"
      },
      "execution_count": null,
      "outputs": []
    },
    {
      "cell_type": "code",
      "source": [
        "soup.p # for paragraph"
      ],
      "metadata": {
        "id": "H0Sqg5TUlcIb"
      },
      "execution_count": null,
      "outputs": []
    },
    {
      "cell_type": "code",
      "source": [
        "soup.title.text # convert title into str"
      ],
      "metadata": {
        "id": "Jy-gKKOjlcCz"
      },
      "execution_count": null,
      "outputs": []
    },
    {
      "cell_type": "code",
      "source": [
        "soup.title.name # tags of title"
      ],
      "metadata": {
        "id": "dJ6fqJMClgwr"
      },
      "execution_count": null,
      "outputs": []
    },
    {
      "cell_type": "code",
      "source": [
        "soup.title.parent # it will return just above tag of title tag"
      ],
      "metadata": {
        "id": "L9RFfzXRlgtJ"
      },
      "execution_count": null,
      "outputs": []
    },
    {
      "cell_type": "code",
      "source": [
        "soup.title.parent.parent # parent tag of parent tag of title"
      ],
      "metadata": {
        "id": "h1NcV7qzlgqh"
      },
      "execution_count": null,
      "outputs": []
    },
    {
      "cell_type": "code",
      "source": [
        "soup.body.children #returns children tags and children is iterable"
      ],
      "metadata": {
        "id": "rYgFDNltlglA"
      },
      "execution_count": null,
      "outputs": []
    },
    {
      "cell_type": "code",
      "source": [
        "soup.body.descendants # it will return all tags under particular tag"
      ],
      "metadata": {
        "id": "RJGqxPVsnWtb"
      },
      "execution_count": null,
      "outputs": []
    },
    {
      "cell_type": "code",
      "source": [
        "soup.get_text('a') # return plain text and ignoring all tags"
      ],
      "metadata": {
        "id": "oCDWZCdQnXCz"
      },
      "execution_count": null,
      "outputs": []
    },
    {
      "cell_type": "code",
      "source": [
        "soup.find('a') # return first occuranc of a tag"
      ],
      "metadata": {
        "id": "d2LhDYTPoBHy"
      },
      "execution_count": null,
      "outputs": []
    },
    {
      "cell_type": "code",
      "source": [
        "soup.find_all('a') # return all a tags in from code or we can say sequence/collection of all tags of a"
      ],
      "metadata": {
        "id": "5jtou0FenXVn"
      },
      "execution_count": null,
      "outputs": []
    },
    {
      "cell_type": "code",
      "source": [
        "soup.a.get('id') # return id of a tag a"
      ],
      "metadata": {
        "id": "KIkYy6XCnXsS"
      },
      "execution_count": null,
      "outputs": []
    },
    {
      "cell_type": "code",
      "source": [
        "soup.a.get(['class' , 'id']) # return class & id of tag a"
      ],
      "metadata": {
        "id": "nz076Xr_nX39"
      },
      "execution_count": null,
      "outputs": []
    },
    {
      "cell_type": "code",
      "source": [],
      "metadata": {
        "id": "RMuYaQRgDe4e"
      },
      "execution_count": null,
      "outputs": []
    },
    {
      "cell_type": "markdown",
      "source": [
        "#Small Project On BeautifulSoup"
      ],
      "metadata": {
        "id": "BUVPBGhbIVE5"
      }
    },
    {
      "cell_type": "code",
      "source": [
        "import requests\n",
        "from bs4 import BeautifulSoup\n",
        "import pandas as pd\n",
        "\n",
        "url = \"https://www.bbc.com/sport/football/premier-league/top-scorers\"\n",
        "\n",
        "players_list = []\n",
        "team_list = []\n",
        "goal_list = []\n",
        "assists_list = []\n",
        "\n",
        "# sample code\n",
        "try:\n",
        "  response = requests.get(url)\n",
        "  response.raise_for_status()\n",
        "except Exception as e:\n",
        "  print(e)\n",
        "else:\n",
        "  soup = BeautifulSoup(response.content,'html.parser')\n",
        "  players = soup.find('tbody').find_all('tr', class_ = 'xyz')\n",
        "  for player in players:\n",
        "    player_name = player.find('div', class_ = 'player class').get_text(strip = True)\n",
        "    team_name = player.find('div', class_ = 'team class')\n",
        "    goals= player.find('div', class_ = 'goals classs')\n",
        "    assists = player.find('div', class_ = 'assists class')\n",
        "    players_list.append(player_name)\n",
        "    team_list.append(team_name)\n",
        "    goal_list.append(goals)\n",
        "    assists_list.append(assists)\n",
        "\n",
        "    print(players_list, team_list, goal_list, assists_list)\n",
        "\n",
        "\n",
        "    data  = {\n",
        "            'Teams' : team_list,\n",
        "            'Players' : players_list ,\n",
        "            'Goals' : goal_list,\n",
        "            'Assists' : assists_list\n",
        "            }\n",
        "\n",
        "    df = pd.DataFrame(data)"
      ],
      "metadata": {
        "id": "mJ8H9Ok_uneh",
        "colab": {
          "base_uri": "https://localhost:8080/"
        },
        "outputId": "5ae9adaa-d758-447d-a255-92eff6a2f157"
      },
      "execution_count": null,
      "outputs": [
        {
          "output_type": "stream",
          "name": "stdout",
          "text": [
            "Succesfull!\n"
          ]
        }
      ]
    },
    {
      "cell_type": "markdown",
      "source": [
        "# Selenium\n"
      ],
      "metadata": {
        "id": "p40VsVZ9TVoT"
      }
    },
    {
      "cell_type": "code",
      "source": [
        "!pip install webdriver-manager"
      ],
      "metadata": {
        "colab": {
          "base_uri": "https://localhost:8080/"
        },
        "id": "5kLJExE-0pPc",
        "outputId": "0386ab90-492b-41f3-e8cd-0e5c43ebfc9e"
      },
      "execution_count": null,
      "outputs": [
        {
          "output_type": "stream",
          "name": "stdout",
          "text": [
            "Collecting webdriver-manager\n",
            "  Downloading webdriver_manager-4.0.2-py2.py3-none-any.whl.metadata (12 kB)\n",
            "Requirement already satisfied: requests in /usr/local/lib/python3.11/dist-packages (from webdriver-manager) (2.32.3)\n",
            "Collecting python-dotenv (from webdriver-manager)\n",
            "  Downloading python_dotenv-1.1.0-py3-none-any.whl.metadata (24 kB)\n",
            "Requirement already satisfied: packaging in /usr/local/lib/python3.11/dist-packages (from webdriver-manager) (24.2)\n",
            "Requirement already satisfied: charset-normalizer<4,>=2 in /usr/local/lib/python3.11/dist-packages (from requests->webdriver-manager) (3.4.1)\n",
            "Requirement already satisfied: idna<4,>=2.5 in /usr/local/lib/python3.11/dist-packages (from requests->webdriver-manager) (3.10)\n",
            "Requirement already satisfied: urllib3<3,>=1.21.1 in /usr/local/lib/python3.11/dist-packages (from requests->webdriver-manager) (2.3.0)\n",
            "Requirement already satisfied: certifi>=2017.4.17 in /usr/local/lib/python3.11/dist-packages (from requests->webdriver-manager) (2025.1.31)\n",
            "Downloading webdriver_manager-4.0.2-py2.py3-none-any.whl (27 kB)\n",
            "Downloading python_dotenv-1.1.0-py3-none-any.whl (20 kB)\n",
            "Installing collected packages: python-dotenv, webdriver-manager\n",
            "Successfully installed python-dotenv-1.1.0 webdriver-manager-4.0.2\n"
          ]
        }
      ]
    },
    {
      "cell_type": "code",
      "source": [
        "from selenium import webdriver\n",
        "from webdriver_manager.chrome import ChromeDriverManager\n",
        "import time\n",
        "from selenium.webdriver.chrome.options import Options\n",
        "from selenium.webdriver.common.by import By\n",
        "from selenium.webdriver.common.keys import Keys\n",
        "from selenium.webdriver.support.select import Select\n",
        "from selenium.webdriver.support.ui import WebDriverWait\n",
        "from selenium.webdriver.support import expected_conditions as EC"
      ],
      "metadata": {
        "id": "-rw3Dw9qTZdu"
      },
      "execution_count": null,
      "outputs": []
    },
    {
      "cell_type": "code",
      "source": [
        "driver = webdriver.Chrome()\n",
        "driver.maximize_window()\n",
        "\n",
        "url = 'https://www.google.com/'\n",
        "driver.get(url)\n",
        "time.sleep(2) # wait for 2 seconds\n",
        "\n",
        "search_bar_Xpath  = 'xpath of search bar'\n",
        "search_bar =  driver.find_element(by = By.XPATH , value = search_bar_Xpath)\n",
        "time.sleep(2)\n",
        "\n",
        "# enter inputs\n",
        "search_bar.send_keys(\"Neaural Networks\")\n",
        "time.sleep(2)\n",
        "\n",
        "# Press Enter on search\n",
        "search = search_bar.send_keys(keys.ENTER)\n",
        "time.sleep(2)\n",
        "\n",
        "# click on any link\n",
        "link_path = 'xyz'\n",
        "link = driver.find_element(by = By.XPATH, value = link_path)\n",
        "link.click()\n",
        "time.sleep(2)\n",
        "\n",
        "driver.quit()\n",
        "\n",
        "\n",
        "# Dropdown\n",
        "drowpdown_link = 'xyz'\n",
        "drowpdown_field = driver.find_element(by = By.XPATH, values = drowpdown_link)\n",
        "\n",
        "select_dropdown = Select(drowpdown_field)\n",
        "time.sleep(2)\n",
        "\n",
        "#by_value\n",
        "select_dropdown.select_by_index(4)\n",
        "time.sleep(2)\n",
        "\n",
        "#by visiblie text\n",
        "select_dropdown.select_by_visible_text('Data Enginerring')\n",
        "\n",
        "\n",
        "# multiselect and select\n",
        "select_dropdown.select_by_index(2)\n",
        "time.sleep(1)\n",
        "\n",
        "select_dropdown.select_by_index(3)\n",
        "time.sleep(1)\n",
        "\n",
        "select_dropdown.select_by_index(4)\n",
        "time.sleep(1)\n",
        "\n",
        "select_dropdown.deselect_by_index(2)\n",
        "time.sleep(1)\n",
        "\n",
        "select_dropdown.delect_all()\n",
        "time.sleep(1)\n",
        "\n",
        "#using time.sleep again and again because we want to see the how things are changing\n",
        "\n",
        "\n",
        "#basic scroliing\n",
        "url = 'xyz.com'\n",
        "driver.get(url)\n",
        "time.sleep(2)\n",
        "\n",
        "# scroll till link\n",
        "insideLink_path  = 'xpath_copied'\n",
        "InsideElement =  driver.find_element(By.XPATH , insideLink_path)\n",
        "driver.execute_script(\"argumets[0]scrollIntoView();\", InsideElement)\n",
        "\n",
        "# scroll vertically\n",
        "driver.execute_script(\"window.scrollBy(0,500);\") # for up to down\n",
        "driver.execute_script(\"window.scrollBy(0,-500);\") # for down to up\n",
        "\n",
        "#scroll horizontally\n",
        "driver.execute_script(\"window.scrollBy(500,0);\")\n",
        "\n",
        "# scrolling by page height\n",
        "driver.execute_script(\"windowscrollTo(0,document.body.scrollHeight);\")\n",
        "\n",
        "#infinite scrolling\n",
        "url = 'https://www.bing.com/images/search?q=barcelona&form=HDRSC3&first=1'\n",
        "driver.get(url)\n",
        "time.sleep(2)\n",
        "\n",
        "prev_height = driver.execute_script(\"return document.body.scrollHeight\") # height before scoll\n",
        "while True:\n",
        "  driver.execute_script(\"windowscrollTo(0, document.body.scrollHeight);\") # scrolling by page height\n",
        "  time.sleep(3)\n",
        "\n",
        "  new_height = driver.execute_script(\"return document.body.scrollHeight\") #height after scroll\n",
        "\n",
        "  if prev_height == new_height: #check if data is avaialble\n",
        "    break\n",
        "  prev_height = new_height # increase height"
      ],
      "metadata": {
        "id": "LLGqChSmnhVE"
      },
      "execution_count": null,
      "outputs": []
    },
    {
      "cell_type": "code",
      "source": [
        "#Explicit waits:--  allow waiting for specific conditions before proceeding with the next action\n",
        "\n",
        "driver = webdriver.Chrome()\n",
        "driver.maximize_window()\n",
        "url = 'www.google.com'\n",
        "driver.get(url)\n",
        "time.sleep(2)\n",
        "\n",
        "search_bar = 'Xpath link of google search  bar'\n",
        "search_bar_click = driver.find_element(By.XPATH, search_bar)\n",
        "search_bar_click.send_keys(\"applications of LLM\")\n",
        "\n",
        "\n",
        "wait = WebDriverWait(driver, 10)\n",
        "wait.until(EC.element_to_be_clickable((By.XPATH, 'xpath link of search button')))\n",
        "\n",
        "search_bar_click.send_keys(Keys.ENTER)\n",
        "\n",
        "time.sleep(2)\n",
        "driver.quit()"
      ],
      "metadata": {
        "id": "96L0dogJnhRZ"
      },
      "execution_count": null,
      "outputs": []
    },
    {
      "cell_type": "code",
      "source": [
        "#Implicit waits:-- automatically wait for elements to appear before performing actions on them\n",
        "driver = webdriver.Chrome()\n",
        "driver.maximize_window()\n",
        "driver.implicitly_wait()\n",
        "\n",
        "url = 'www.google.com'\n"
      ],
      "metadata": {
        "id": "BB4V8ZBnnhNF"
      },
      "execution_count": null,
      "outputs": []
    },
    {
      "cell_type": "code",
      "source": [
        "# Iframe:-- it lets you show content from another webpage inside your current page.\n",
        "\n",
        "driver = webdriver.Chrome()\n",
        "driver.maximize_window()\n",
        "url = 'xyz'\n",
        "\n",
        "# Locate the iframe and switch to it\n",
        "iframe_element = driver.find_elements(By.XPATH , 'iframe-element')  # Find the iframe element\n",
        "driver.switch_to.frame(iframe_element)  # Switch focus to the iframe\n",
        "\n",
        "# Click the link inside the iframe\n",
        "link = driver.find_element(By.XPATH , 'link')  # Find the link inside the iframe\n",
        "link.click()\n",
        "time.sleep(2)\n",
        "\n",
        "# Switch back to the main content (outside the iframe)\n",
        "driver.switch_to.default_content()  # Switch focus back to the main page\n",
        "\n",
        "# Close the browser\n",
        "driver.quit()  # Quit the driver and close the browser\n"
      ],
      "metadata": {
        "id": "gsLEI5PFMcv7"
      },
      "execution_count": null,
      "outputs": []
    },
    {
      "cell_type": "code",
      "source": [
        "#Alerts:--  handle pop-up messages like alerts, confirms, or prompts in the browser\n",
        "chrome_options = Options()\n",
        "driver = webdriver.Chrome(options=chrome_options)\n",
        "driver.maximize_window()\n",
        "\n",
        "url = 'https://www.w3schools.com/js/tryit.asp?filename=tryjs_alert'\n",
        "driver.get(url)\n",
        "time.sleep(2)\n",
        "\n",
        "iframe_elem = driver.find_element(By.XPATh, 'iframe_link')\n",
        "driver.switch_to.frame(iframe_elem)\n",
        "time.sleep(2)\n",
        "\n",
        "button = driver.find_element(By.XPATH, 'alerts_link')\n",
        "button.click()\n",
        "time.sleep(1)\n",
        "\n",
        "# 1. javascript alert\n",
        "print(f\"Alerts Message: {driver.switch_to.alert.text}\")\n",
        "\n",
        "driver.switch_to.alert.accept()\n",
        "time.sleep(2)\n",
        "\n",
        "#driver.switch_to.default_content()\n",
        "#driver.quit()\n",
        "\n",
        "# 2. confirmation alert\n",
        "print(f\"Alerts Message: {driver.switch_to.alert.text}\")\n",
        "\n",
        "driver.switch_to.alert.accept() # for press ok\n",
        "print(\"\\nclieck on accept\")\n",
        "time.sleep(1)\n",
        "\n",
        "driver.switch_to.alert.dismis() # for press cancel\n",
        "print(\"\\nclick on accept\")\n",
        "time.sleep(1)\n",
        "\n",
        "#driver.switch_to.default_content()\n",
        "#driver.quit()\n",
        "\n",
        "\n",
        "#3. Prompt alert\n",
        "print(f\"Alerts Message: {driver.switch_to.alert.text}\")\n",
        "\n",
        "driver.switch_to.alert.send_keys(\"enter the name\") # for input\n",
        "driver.switch_to.alert.accept() # for press ok\n",
        "driver.switch_to.alert.dismiss() # for press cancel\n",
        "time.sleep(1)\n",
        "\n",
        "#driver.switch_to.default_content()\n",
        "#driver.quit()\n",
        "\n",
        "# 4."
      ],
      "metadata": {
        "id": "OX6IOzpgYU6V"
      },
      "execution_count": null,
      "outputs": []
    },
    {
      "cell_type": "code",
      "source": [
        "import logging # to handle log messages\n",
        "\n",
        "# Configure the logger\n",
        "logging.basicConfig(\n",
        "    level=logging.DEBUG,  # Set the logging level to capture all messages from DEBUG level and above\n",
        "    format='%(asctime)s - %(levelname)s - %(message)s',  # Log format: timestamp - log level - message\n",
        "    handlers=[\n",
        "        logging.StreamHandler()  # Output logs to the console\n",
        "    ]\n",
        ")\n",
        "\n",
        "# Create some log messages with different severity levels\n",
        "logging.debug('This is a debug message')\n",
        "logging.info('This is an info message')\n",
        "logging.warning('This is a warning message')\n",
        "logging.error('This is an error message')\n",
        "logging.critical('This is a critical message')\n",
        "\n",
        "# Example function with logging\n",
        "def divide(a, b):\n",
        "    try:\n",
        "        result = a / b\n",
        "        logging.info(f'Division result: {result}')\n",
        "        return result\n",
        "    except ZeroDivisionError as e:\n",
        "        logging.error(f'Error: {e}')\n",
        "\n",
        "# Calling the function\n",
        "divide(10, 2)  # This will work fine\n",
        "divide(10, 0)  # This will raise a division by zero error"
      ],
      "metadata": {
        "colab": {
          "base_uri": "https://localhost:8080/"
        },
        "id": "Lbhv2Nm-5bsw",
        "outputId": "7dbcb71b-acce-43c3-d6f0-d5fba27bd9f5"
      },
      "execution_count": null,
      "outputs": [
        {
          "output_type": "stream",
          "name": "stderr",
          "text": [
            "WARNING:root:This is a warning message\n",
            "ERROR:root:This is an error message\n",
            "CRITICAL:root:This is a critical message\n",
            "ERROR:root:Error: division by zero\n"
          ]
        }
      ]
    },
    {
      "cell_type": "code",
      "source": [],
      "metadata": {
        "id": "Ke0WdAKL56wS"
      },
      "execution_count": null,
      "outputs": []
    },
    {
      "cell_type": "markdown",
      "source": [
        "# Best Practice"
      ],
      "metadata": {
        "id": "yaRCNK7I4Fse"
      }
    },
    {
      "cell_type": "code",
      "source": [
        "# Use object-oriented programming (OOP) to encapsulate web elements and actions for better structure and reusability.\n",
        "driver = webdriver.Chrome()\n",
        "driver.maimize_window()\n",
        "\n",
        "url = 'https://www.github.com/login'\n",
        "driver.get(url)\n",
        "time.sleep(1)\n",
        "\n",
        "\n",
        "class LoginPage:\n",
        "\n",
        "  def __init__(self, driver):\n",
        "    self.driver = driver\n",
        "    self.username = (By.ID, 'id_of_username')\n",
        "    self.password = (By.ID, 'id_of_password')\n",
        "    self.loginButton = (By.NAME, 'name_of_login_button')\n",
        "\n",
        "  def LonIn(self, username , password):\n",
        "    self.driver.find_element(*self.username).send_keys(username)\n",
        "    self.driver.find_element(*self.password).send_keys(password)\n",
        "    time.sleep(1)\n",
        "    self.driver.find_element(*self.loginButton).click()\n",
        "\n",
        "page = LoginPage(driver)\n",
        "page.LonIn(\"Bharat\" , \"Bharat@987\")\n",
        "\n",
        "time.sleep(2)\n",
        "driver.quit()"
      ],
      "metadata": {
        "id": "pTQk19O2c5mT"
      },
      "execution_count": null,
      "outputs": []
    },
    {
      "cell_type": "markdown",
      "source": [
        "#Project"
      ],
      "metadata": {
        "id": "5RwXKUp5vjqu"
      }
    },
    {
      "cell_type": "code",
      "source": [],
      "metadata": {
        "id": "wwTQddTWxvE-"
      },
      "execution_count": null,
      "outputs": []
    },
    {
      "cell_type": "code",
      "source": [
        "#body of main code\n",
        "driver = webdriver.Chrome()\n",
        "driver.maximize_window\n",
        "\n",
        "#explicit wait\n",
        "wait = WebDriverWait(driver, 5)\n",
        "\n",
        "#function to load for page\n",
        "def wait_for_page_load(driver , wait):\n",
        "  page_of_title = driver.title\n",
        "  try:\n",
        "    wait.until(lambda c : c.execute_script('return document.readyState') == 'complete')\n",
        "  except:\n",
        "    print(f\"Page {page_of_title} is not Loaded completely\")\n",
        "  else:\n",
        "    print(f\"Page {page_of_title} loaded succesfully\")\n",
        "\n",
        "url= \"http://finance/yahoo.com/\"\n",
        "driver.get(url)\n",
        "wait_for_page_load(driver,wait)\n",
        "\n",
        "#Hovering the Market Menu\n",
        "actions = ActionChains(driver)\n",
        "market_menu = wait.untill(\n",
        "\n",
        "    EC.presence_of_element_located((By.XPATH, \"market menu xpath\"))\n",
        "                         )\n",
        "actions.move_to_element(market_menu).perform()\n",
        "\n",
        "# click on trending clickers\n",
        "trending_tickers = wait.until(\n",
        "     EC.element_to_be_clickable((By.XPATH, \"trending tickers xpath\"))\n",
        "                            )\n",
        "trending_tickers.click()\n",
        "wait_for_page_load(driver,wait)\n",
        "\n",
        "#Click on most active\n",
        "most_active = wait.untill(\n",
        "    EC.element_to_be_clickable((By.XPATH, \"most active xpath\"))\n",
        ")\n",
        "most_active.click()\n",
        "wait_for_page_load(driver,wait)\n",
        "\n",
        "#navigating the stockes pages\n",
        "stocks_data = []\n",
        "while True:\n",
        "  #scrap the data\n",
        "  wait.untill(\n",
        "      EC.presence_of_element_located((By.TAG_NAME, \"table tag name\"))\n",
        "  )\n",
        "  rows = driver.find_elements(By.CSS_SELECTOR, \"table tbody tr>>these are tag hieararchy\")\n",
        "  for row in rows:\n",
        "    values = row.find_elements(By.TAG_NAME, \"tag name of row\")\n",
        "    stocks = {\n",
        "\n",
        "              \"symbol\" : values[0].text,\n",
        "              \"name\" : values[1].text,\n",
        "              \"price\": values[4].text,\n",
        "              \"change\": values[4].text,\n",
        "              \"volume\": values[6].text,\n",
        "              \"market cap\": values[8].text,\n",
        "              \"PE Ratio\" : values[9].text,\n",
        "    }\n",
        "    stocks_data.append(stocks)\n",
        "  break\n",
        "  #check if next arrow butoon clickable\n",
        "  try:\n",
        "    next_butoon  = wait.untill(\n",
        "\n",
        "        EC.element_to_be_clickable((By.XPATH , \"button click xpath\"))\n",
        "    )\n",
        "  except:\n",
        "    print(f\"the next button is not clickable. we have nevigated throgh all pages\")\n",
        "  else:\n",
        "    next_butoon.click()\n",
        "    time.sleep(1)\n",
        "\n",
        "driver.quit()"
      ],
      "metadata": {
        "id": "ZD3Sxc3-Lqfc"
      },
      "execution_count": null,
      "outputs": []
    },
    {
      "cell_type": "code",
      "source": [],
      "metadata": {
        "id": "cTgkzTRZyK3o"
      },
      "execution_count": null,
      "outputs": []
    },
    {
      "cell_type": "code",
      "source": [],
      "metadata": {
        "id": "VnH1fN5XyK0F"
      },
      "execution_count": null,
      "outputs": []
    },
    {
      "cell_type": "code",
      "source": [
        "import time\n",
        "import numpy as np\n",
        "import pandas as pd\n",
        "from selenium import webdriver                                    # Main Selenium module for browser automation\n",
        "from selenium.webdriver.common.by import By                       # Locates elements on the page\n",
        "from selenium.webdriver.common.keys import Keys                   # Handles keyboard actions (e.g., pressing Enter)\n",
        "from selenium.webdriver.support.select import Select              # Manages drop-down menus in forms\n",
        "from selenium.webdriver.chrome.options import Options             # Configures Chrome options (e.g., headless mode)\n",
        "from selenium.webdriver.support.ui import WebDriverWait           # Waits for elements to be ready before interaction\n",
        "from webdriver_manager.chrome import ChromeDriverManager          # Automatically manages ChromeDriver installation\n",
        "from selenium.webdriver.common.action_chains import ActionChains  # Simulates complex user actions (e.g., mouse movements)\n",
        "from selenium.webdriver.support import expected_conditions as EC  # Waits for specific conditions to occur before continuing\n",
        "\n",
        "driver = webdriver.Chrome()\n",
        "driver.maximize_window()\n",
        "#explicit wait\n",
        "wait = WebDriverWait(driver, 5)\n",
        "\n",
        "#function to load for page\n",
        "def wait_for_page_load(driver , wait):\n",
        "  title = driver.title\n",
        "  try:\n",
        "    wait.until(lambda c : c.execute_script('return document.readyState') == 'complete') # Check if the page has fully loaded\n",
        "  except:\n",
        "    print(f\"Page {title} is not Loaded completely.\\n\")\n",
        "  else:\n",
        "    print(f\"Page {title} loaded succesfully,\\n\")\n",
        "\n",
        "url= \"https://finance.yahoo.com/\"\n",
        "driver.get(url)\n",
        "wait_for_page_load(driver,wait)\n",
        "\n",
        "\n",
        "#Hovering the Market Menu\n",
        "actions = ActionChains(driver)   # Set up actions for the driver\n",
        "market_menu = wait.until(\n",
        "    EC.presence_of_element_located((By.XPATH, '/html/body/div[2]/header/div/div/div/div[4]/div/div/ul/li[3]/a/span')))\n",
        "actions.move_to_element(market_menu).perform()\n",
        "\n",
        "\n",
        "#Check if the trending tickers link is clickable, then click it\n",
        "trending_tickers = wait.until(\n",
        "     EC.element_to_be_clickable((By.XPATH, '/html/body/div[2]/header/div/div/div/div[4]/div/div/ul/li[3]/div/ul/li[4]/a/div')))\n",
        "trending_tickers.click()\n",
        "wait_for_page_load(driver,wait)\n",
        "\n",
        "\n",
        "#Check if the most active link is clickable, then click it\n",
        "most_active = wait.until(\n",
        "    EC.element_to_be_clickable((By.XPATH, '/html/body/div[2]/main/section/section/section/article/section[1]/div/nav/ul/li[1]/a/span')))\n",
        "most_active.click()\n",
        "wait_for_page_load(driver,wait)\n",
        "\n",
        "\n",
        "#Navigating the stockes pages\n",
        "stocks_data = []\n",
        "while True:\n",
        "  #1. scrap the data\n",
        "  # Wait until the table is present\n",
        "  wait.until(\n",
        "      EC.presence_of_element_located((By.TAG_NAME, \"table\")))\n",
        "  rows = driver.find_elements(By.CSS_SELECTOR, \"table tbody tr\") #Find all rows in the table body\n",
        "  for row in rows:   #Loop through each row in the table\n",
        "    values = row.find_elements(By.TAG_NAME, \"td\")\n",
        "    stocks = {\n",
        "\n",
        "              \"symbol\" : values[0].text,     # Stock symbol\n",
        "              \"name\" : values[1].text,       # Stock name\n",
        "              \"price\": values[4].text,       # Stock price\n",
        "              \"change\": values[4].text,      # Stock price change\n",
        "              \"volume\": values[6].text,      # Stock volume\n",
        "              \"market_cap\": values[8].text,  # Market capitalization\n",
        "              \"pe_ratio\" : values[9].text,   # Price-to-earnings ratio\n",
        "    }\n",
        "    stocks_data.append(stocks)\n",
        "  #2. check if next arrow butoon clickable\n",
        "  try:\n",
        "    next_button  = wait.until(\n",
        "        EC.element_to_be_clickable((By.XPATH , '//*[@id=\"nimbus-app\"]/section/section/section/article/section[1]/div/div[3]/div[3]/button[3]')))\n",
        "  except:\n",
        "    print(f\"the next button is not clickable. we have nevigated throgh all the pages\")\n",
        "    break # Exit the loop if no next page is available\n",
        "  else:\n",
        "    next_button.click()\n",
        "    time.sleep(1)\n",
        "\n",
        "driver.quit()\n",
        "\n",
        "# CLEANING THE DATA>>>>>>>>>>>>>>>>\n",
        "df = (pd\n",
        "    .DataFrame(stocks_data)\n",
        "    .apply(lambda col : col.str.strip() if col.dtype == \"object\" else col)     #Remove leading/trailing spaces from string columns\n",
        "    .assign(price =  lambda p : pd.to_numeric(p.price),                        #Convert the 'price' column to numeric\n",
        "            change = lambda c : pd.to_numeric(c.change.str.replace(\"+\",\"\")),   #Clean and convert 'change' column to numeric\n",
        "            volume = lambda v : pd.to_numeric(v.volume.str.replace(\"M\", \"\")),  #Convert 'volume' to numeric, removing 'M' suffix\n",
        "            market_cap = lambda x: x.market_cap.apply\n",
        "                        ( lambda val :\n",
        "                     float(val.replace(\"B\" , \"\")) if \"B\" in val        #Handle 'B' (billion) values\n",
        "                else float(val.replace(\"T\", \"\"))  *1000 if \"T\" in val  #Handle 'T' (trillion) values\n",
        "                else float(val.replace(\"M\", \"\")) * 0.001 if \"M\" in val #Handle 'M' (million) values\n",
        "                else val),\n",
        "            pe_ratio = lambda pe : (pe  # Clean and convert 'pe_ratio'\n",
        "                                      .pe_ratio\n",
        "                                      .replace(\"-\", np.nan)\n",
        "                                      .str.replace(\",\",\"\")\n",
        "                                      .pipe(lambda col : pd.to_numeric(col))))\n",
        "    .rename(columns = {\n",
        "        \"price\" : \"Price_USDT\",\n",
        "        \"volume\" : \"Volume_M\",\n",
        "        \"market_cap\" : \"Market_Cap_B\"})\n",
        "   )\n",
        "df\n",
        "#df.price.str.extract(r\"([0-9.])\", expand = False).unique()  >> Uncomment to check unique values in the 'price' column apart from numbers and \".\"\n",
        "df.to_excel(\"Yahoo stocks scraped data by bharat.xlsx\", index = False)"
      ],
      "metadata": {
        "id": "qGmGvFKF1TZO"
      },
      "execution_count": null,
      "outputs": []
    },
    {
      "cell_type": "markdown",
      "source": [
        "**Object-oriented programming** (OOP) is important for organizing code, making it more modular, reusable, and maintainable. By encapsulating each step—like **accessing** the URL, **navigating** stocks, **extracting** data, and **cleaning** it—into separate methods or classes, **OOP improves structure, reduces redundancy**, and simplifies future modifications or debugging, even if the initial code isn't OOP-based.\n",
        "\n",
        "\n",
        "**Divided Completed Process in 4 Steps Which Will Be Methods of Scraper Class:-**\n",
        "\n",
        "\n",
        "**| Accessing the Main URL |**\n",
        "\n",
        "1. Open the browser and maximize the window.\n",
        "\n",
        "2. Initialize the Explicit Wait instance.\n",
        "\n",
        "3. Access the main URL and wait for the page to load.\n",
        "\n",
        "\n",
        "**| Accessing Most Active Stocks |**\n",
        "\n",
        "4. Hover over the \"Markets Menu.\"\n",
        "\n",
        "5. Click on \"Trending Tickers.\"\n",
        "\n",
        "6. Click on \"Most Active.\"\n",
        "\n",
        "\n",
        "**| Extracting the Stocks Data |**\n",
        "\n",
        "7. Scrape the data as dictionaries.\n",
        "\n",
        "8. Navigate until the last page for more data.\n",
        "\n",
        "9. Store the extracted data in a list.\n",
        "\n",
        "10. Close the browser.\n",
        "\n",
        "**| Clean & Save the Data |**\n",
        "\n",
        "11. Clean the extracted data.\n",
        "\n",
        "12. Export the cleaned data as an Excel file.\n",
        "\n",
        "\n"
      ],
      "metadata": {
        "id": "sCA0BScqyGpe"
      }
    },
    {
      "cell_type": "code",
      "source": [
        "import time\n",
        "import numpy as np\n",
        "import pandas as pd\n",
        "from selenium import webdriver                                    # Main Selenium module for browser automation\n",
        "from selenium.webdriver.common.by import By                       # Locates elements on the page\n",
        "from selenium.webdriver.common.keys import Keys                   # Handles keyboard actions (e.g., pressing Enter)\n",
        "from selenium.webdriver.support.select import Select              # Manages drop-down menus in forms\n",
        "from selenium.webdriver.chrome.options import Options             # Configures Chrome options (e.g., headless mode)\n",
        "from selenium.webdriver.support.ui import WebDriverWait           # Waits for elements to be ready before interaction\n",
        "from webdriver_manager.chrome import ChromeDriverManager          # Automatically manages ChromeDriver installation\n",
        "from selenium.webdriver.common.action_chains import ActionChains  # Simulates complex user actions (e.g., mouse movements)\n",
        "from selenium.webdriver.support import expected_conditions as EC  # Waits for specific conditions to occur before continuing\n",
        "\n",
        "class Scraping:\n",
        "  def __init__(self, driver, timeout = 10):\n",
        "    self.driver = driver\n",
        "    self.wait = WebDriverWait(self.driver, timeout = timeout)\n",
        "    self.stocks_data = []\n",
        "\n",
        "  #Method-1------------------------------------------------>\n",
        "  def wait_for_page_load(self):\n",
        "    page_of_title = self.driver.title\n",
        "    try:\n",
        "      self.wait.until(lambda c : c.execute_script('return document.readyState') == 'complete')\n",
        "    except:\n",
        "      print(f\"Page {page_of_title} is not Loaded completely.\\n\")\n",
        "    else:\n",
        "      print(f\"Page {page_of_title} loaded succesfully.\\n\")\n",
        "\n",
        "  def Access_url(self, url):\n",
        "    self.driver.get(url)\n",
        "    self.wait_for_page_load()\n",
        "\n",
        "  #Method 2------------------------------------------------>\n",
        "  def Accessing_most_active_stocks(self):\n",
        "\n",
        "    #Hovering the Market Menu by using XPATH of Market Menu\n",
        "    actions = ActionChains(self.driver)\n",
        "    market_menu = self.wait.until(\n",
        "      EC.presence_of_element_located((By.XPATH, '/html/body/div[2]/header/div/div/div/div[4]/div/div/ul/li[3]/a/span')))\n",
        "    actions.move_to_element(market_menu).perform()\n",
        "\n",
        "    #Click on trending clickers by using XPATH of Trending clickers\n",
        "    trending_tickers = self.wait.until(\n",
        "        EC.element_to_be_clickable((By.XPATH, '/html/body/div[2]/header/div/div/div/div[4]/div/div/ul/li[3]/div/ul/li[4]/a/div')))\n",
        "    trending_tickers.click()\n",
        "    self.wait_for_page_load()\n",
        "\n",
        "    #Click on most active by using XPATH of most active\n",
        "    most_active = self.wait.until(\n",
        "      EC.element_to_be_clickable((By.XPATH, '/html/body/div[2]/main/section/section/section/article/section[1]/div/nav/ul/li[1]/a/span')))\n",
        "    most_active.click()\n",
        "    self.wait_for_page_load()\n",
        "\n",
        "  #Method 3-------------------------------------------------->\n",
        "  def Extracting_data(self):\n",
        "    while True:\n",
        "\n",
        "      #scrap the data from webpage\n",
        "      self.wait.until(\n",
        "          EC.presence_of_element_located((By.TAG_NAME, \"table\")) # table tag name\n",
        "                      )\n",
        "      rows = self.driver.find_elements(By.CSS_SELECTOR, \"table tbody tr\") # these are tag hieararchy\n",
        "      for row in rows:\n",
        "        values = row.find_elements(By.TAG_NAME, \"td\") # tag name of row\n",
        "        stocks = {\n",
        "                  \"symbol\" : values[0].text,\n",
        "                  \"name\" : values[1].text,\n",
        "                  \"price\": values[3].text,\n",
        "                  \"change\": values[4].text,\n",
        "                  \"volume\": values[6].text,\n",
        "                  \"market_cap\": values[8].text,\n",
        "                  \"PE_Ratio\" : values[9].text,\n",
        "                 }\n",
        "        self.stocks_data.append(stocks)\n",
        "\n",
        "      #check if next arrow butoon clickable by providing \">\" this button XPATH\n",
        "      try:\n",
        "        next_button  = self.wait.until(\n",
        "            EC.element_to_be_clickable((By.XPATH , '//*[@id=\"nimbus-app\"]/section/section/section/article/section[1]/div/div[3]/div[3]/button[3]'))\n",
        "                                  )\n",
        "      except:\n",
        "        print(f\"the next button is not clickable. we have nevigated throgh all pages\")\n",
        "        break\n",
        "      else:\n",
        "        next_button.click()\n",
        "        time.sleep(1)\n",
        "\n",
        "  #Method 4-------------------------------------------------------->\n",
        "  def Data_Cleaning(self, filename=\"temp\"):\n",
        "      df = (pd\n",
        "        .DataFrame(stocks_data)\n",
        "        .apply(lambda col : col.str.strip() if col.dtype == \"object\" else col)     #Remove leading/trailing spaces from string columns\n",
        "        .assign(price =  lambda p : pd.to_numeric(p.price),                        #Convert the 'price' column to numeric\n",
        "                change = lambda c : pd.to_numeric(c.change.str.replace(\"+\",\"\")),   #Clean and convert 'change' column to numeric\n",
        "                volume = lambda v : pd.to_numeric(v.volume.str.replace(\"M\", \"\")),  #Convert 'volume' to numeric, removing 'M' suffix\n",
        "                market_cap = lambda x: x.market_cap.apply\n",
        "                            ( lambda val :\n",
        "                         float(val.replace(\"B\" , \"\")) if \"B\" in val        #Handle 'B' (billion) values\n",
        "                    else float(val.replace(\"T\", \"\"))  *1000 if \"T\" in val  #Handle 'T' (trillion) values\n",
        "                    else float(val.replace(\"M\", \"\")) * 0.001 if \"M\" in val #Handle 'M' (million) values\n",
        "                    else val),\n",
        "                pe_ratio = lambda pe : (pe  # Clean and convert 'pe_ratio'\n",
        "                                          .pe_ratio\n",
        "                                          .replace(\"-\", np.nan)\n",
        "                                          .str.replace(\",\",\"\")\n",
        "                                          .pipe(lambda col : pd.to_numeric(col))))\n",
        "        .rename(columns = {\n",
        "            \"price\" : \"Price_USDT\",\n",
        "            \"volume\" : \"Volume_M\",\n",
        "            \"market_cap\" : \"Market_Cap_B\"})\n",
        "           )\n",
        "#df.price.str.extract(r\"([0-9.])\", expand = False).unique()  >> Uncomment to check unique values in the 'price' column apart from numbers and \".\"\n",
        "      df.to_excel(f\"{filename}.xlsx\", index = False)\n",
        "\n",
        "\n",
        "\n",
        "if __name__ == \"__main__\":      # we are implemeting code of ourself module\n",
        "  driver = webdriver.Chrome()\n",
        "  driver.maximize_window()\n",
        "  url = 'https://finance.yahoo.com/'\n",
        "  scraper = Scraping(driver , 5)\n",
        "\n",
        "  scraper.Access_url(url)\n",
        "  scraper.Accessing_most_active_stocks()\n",
        "  scraper.Extracting_data()\n",
        "  scraper.Data_Cleaning(\"Yahoo_stocks_scraped_data_by_Bharat\")\n",
        "  driver.quit()\n",
        "\n",
        "#Bharat Kumar Soni"
      ],
      "metadata": {
        "id": "Yw79g5_55cWx"
      },
      "execution_count": null,
      "outputs": []
    }
  ]
}